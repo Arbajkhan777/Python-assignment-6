{
 "cells": [
  {
   "cell_type": "markdown",
   "id": "2e675704",
   "metadata": {},
   "source": [
    "<h3>Python Basic Assignment - 6<h3/>"
   ]
  },
  {
   "cell_type": "markdown",
   "id": "4c214ce8",
   "metadata": {},
   "source": [
    "Q.1. What are keywords in python? Using the keyword library, print all the python keywords."
   ]
  },
  {
   "cell_type": "code",
   "execution_count": null,
   "id": "ae9aecce",
   "metadata": {},
   "outputs": [],
   "source": [
    "#key words in python have speacil meaning and purpose as they are part of the language syntax."
   ]
  },
  {
   "cell_type": "code",
   "execution_count": 2,
   "id": "838741fe",
   "metadata": {},
   "outputs": [
    {
     "name": "stdout",
     "output_type": "stream",
     "text": [
      "['False', 'None', 'True', 'and', 'as', 'assert', 'async', 'await', 'break', 'class', 'continue', 'def', 'del', 'elif', 'else', 'except', 'finally', 'for', 'from', 'global', 'if', 'import', 'in', 'is', 'lambda', 'nonlocal', 'not', 'or', 'pass', 'raise', 'return', 'try', 'while', 'with', 'yield']\n"
     ]
    }
   ],
   "source": [
    "import keyword\n",
    "print(keyword.kwlist)"
   ]
  },
  {
   "cell_type": "code",
   "execution_count": null,
   "id": "d3b7ab84",
   "metadata": {},
   "outputs": [],
   "source": []
  },
  {
   "cell_type": "markdown",
   "id": "986b8224",
   "metadata": {},
   "source": [
    "Q.2. What are the rules to create variables in python?"
   ]
  },
  {
   "cell_type": "code",
   "execution_count": null,
   "id": "dd7260f1",
   "metadata": {},
   "outputs": [],
   "source": [
    "#The rules to create variables in python are as follows:\n",
    "# Variable must start with a letter (a-z or A-Z) or an underscore (_). \n",
    "#Remainder of the variable name we can use 0-9 numbers or underscore (_)\n",
    "#Variables names should not use Python keywords\n",
    "#Python is case sensative language so variables are also case sensative."
   ]
  },
  {
   "cell_type": "code",
   "execution_count": null,
   "id": "c3a951c6",
   "metadata": {},
   "outputs": [],
   "source": []
  },
  {
   "cell_type": "markdown",
   "id": "5b9e17c1",
   "metadata": {},
   "source": [
    "Q.3. What are the standards and conventions followed for the nomenclature of variables in python to improve code \n",
    "    readability and maintainability?"
   ]
  },
  {
   "cell_type": "code",
   "execution_count": null,
   "id": "2eb5461a",
   "metadata": {},
   "outputs": [],
   "source": [
    "#Variables name shold be desciptive and meaningful and it shold indicate purpose of it.\n",
    "#Use underscore for seperating word, it improves readablity \n",
    "#Use consistant naming style through out the code\n",
    "#These convestions helps developers understand code more easily."
   ]
  },
  {
   "cell_type": "code",
   "execution_count": null,
   "id": "a44cc371",
   "metadata": {},
   "outputs": [],
   "source": []
  },
  {
   "cell_type": "markdown",
   "id": "6b67942b",
   "metadata": {},
   "source": [
    "Q.4. What will happen if a keyword is used as a variable name?"
   ]
  },
  {
   "cell_type": "code",
   "execution_count": null,
   "id": "06b541b7",
   "metadata": {},
   "outputs": [],
   "source": [
    "#If a python keyword is used as a variable name it will result in syntax error. \n",
    "#Please find below an example"
   ]
  },
  {
   "cell_type": "code",
   "execution_count": 3,
   "id": "24dde8e6",
   "metadata": {},
   "outputs": [
    {
     "ename": "SyntaxError",
     "evalue": "cannot assign to True (536280153.py, line 1)",
     "output_type": "error",
     "traceback": [
      "\u001b[1;36m  Cell \u001b[1;32mIn[3], line 1\u001b[1;36m\u001b[0m\n\u001b[1;33m    True = \"It will throw an error.\"\u001b[0m\n\u001b[1;37m    ^\u001b[0m\n\u001b[1;31mSyntaxError\u001b[0m\u001b[1;31m:\u001b[0m cannot assign to True\n"
     ]
    }
   ],
   "source": [
    "True = \"It will throw an error.\"\n",
    "print(True)"
   ]
  },
  {
   "cell_type": "code",
   "execution_count": null,
   "id": "60c1c43c",
   "metadata": {},
   "outputs": [],
   "source": []
  },
  {
   "cell_type": "markdown",
   "id": "a654bb9c",
   "metadata": {},
   "source": [
    "Q.5. For what purpose def keyword is used?"
   ]
  },
  {
   "cell_type": "code",
   "execution_count": null,
   "id": "74b2ce70",
   "metadata": {},
   "outputs": [],
   "source": [
    "#The def keyword in python used to create a function, it allows you to encapsulaate a block of code into a reusable unit\n",
    "#that can be called later in your program."
   ]
  },
  {
   "cell_type": "code",
   "execution_count": null,
   "id": "3dc825e1",
   "metadata": {},
   "outputs": [],
   "source": []
  },
  {
   "cell_type": "markdown",
   "id": "2998422f",
   "metadata": {},
   "source": [
    "Q.6. What is the operation of this special character ‘\\’?"
   ]
  },
  {
   "cell_type": "code",
   "execution_count": null,
   "id": "d8d9b7fc",
   "metadata": {},
   "outputs": [],
   "source": [
    "#The backslash known in python as escape charactor.\n",
    "\\n = It represents new line.\n",
    "\\t = It represents tab \n",
    "\\\\ = It represents a single slash (\\)"
   ]
  },
  {
   "cell_type": "code",
   "execution_count": null,
   "id": "4756b511",
   "metadata": {},
   "outputs": [],
   "source": []
  },
  {
   "cell_type": "markdown",
   "id": "362ba781",
   "metadata": {},
   "source": [
    "Q.7. Give an example of the following conditions:\n",
    "(i) Homogeneous list\n",
    "(ii) Heterogeneous set\n",
    "(iii) Homogeneous tuple"
   ]
  },
  {
   "cell_type": "code",
   "execution_count": null,
   "id": "d7f3a502",
   "metadata": {},
   "outputs": [],
   "source": [
    "# Homogeneous list = A list containing elements of same data type.\n",
    "# Heterogeneous set = A set containing elements of different data types.\n",
    "# Homogeneous tuple = A tuple containing elemets of same data type."
   ]
  },
  {
   "cell_type": "code",
   "execution_count": null,
   "id": "c790c2c9",
   "metadata": {},
   "outputs": [],
   "source": [
    "Homogeneous list = [1,2,3,4,5]\n",
    "Heterogeneous set = {1, \"hello\", True}\n",
    "Homogeneous tuple = (\"apple\",\"banana\",\"orange\")"
   ]
  },
  {
   "cell_type": "code",
   "execution_count": null,
   "id": "45649fad",
   "metadata": {},
   "outputs": [],
   "source": []
  },
  {
   "cell_type": "markdown",
   "id": "7c1ab103",
   "metadata": {},
   "source": [
    "Q.8. Explain the mutable and immutable data types with proper explanation & examples"
   ]
  },
  {
   "cell_type": "code",
   "execution_count": null,
   "id": "d4d6725b",
   "metadata": {},
   "outputs": [],
   "source": [
    "# Mutable data types are those whose value can be changed after creating it.e.g. List, dictionaries and sets.\n",
    "my_list = [1,2,3,4]\n",
    "my_list.append(5)"
   ]
  },
  {
   "cell_type": "code",
   "execution_count": 6,
   "id": "79b37cd0",
   "metadata": {},
   "outputs": [
    {
     "name": "stdout",
     "output_type": "stream",
     "text": [
      "Original string: hello world\n",
      "Modified string: HELLO WORLD\n"
     ]
    }
   ],
   "source": [
    "# Immutable data types are those whose values cannot be changed after creating it. e.g. strings, tuples, intigers and float.\n",
    "# When you modify immutable object you are actully creating new object in computers memory.\n",
    "\n",
    "my_string = \"hello world\"\n",
    "print(\"Original string:\", my_string)\n",
    "\n",
    "#Creating new string/modify\n",
    "my_string = my_string.upper()\n",
    "print(\"Modified string:\", my_string)\n"
   ]
  },
  {
   "cell_type": "code",
   "execution_count": null,
   "id": "7b2a1de8",
   "metadata": {},
   "outputs": [],
   "source": []
  },
  {
   "cell_type": "markdown",
   "id": "94d2c98a",
   "metadata": {},
   "source": [
    "Q.9. Write a code to create the given structure using only for loop.\n",
    "\n",
    "    *\n",
    "   ***\n",
    "  *****\n",
    " *******\n",
    "*********"
   ]
  },
  {
   "cell_type": "code",
   "execution_count": 12,
   "id": "9f4de095",
   "metadata": {},
   "outputs": [
    {
     "name": "stdout",
     "output_type": "stream",
     "text": [
      "    * \n",
      "   * * \n",
      "  * * * \n",
      " * * * * \n",
      "* * * * * \n"
     ]
    }
   ],
   "source": [
    "n = 5\n",
    "\n",
    "for i in range(n):\n",
    "    # Print spaces\n",
    "    for j in range(n - i - 1):\n",
    "        print(\" \", end=\"\")\n",
    "        \n",
    "    for j in range(i + 1):\n",
    "        print(\"*\", end=\" \")\n",
    "    \n",
    "    print()"
   ]
  },
  {
   "cell_type": "code",
   "execution_count": null,
   "id": "73bdc2ff",
   "metadata": {},
   "outputs": [],
   "source": []
  },
  {
   "cell_type": "markdown",
   "id": "56236444",
   "metadata": {},
   "source": [
    "Q.10. Write a code to create the given structure using while loop.\n",
    "|||||||||\n",
    " |||||||\n",
    "  |||||\n",
    "   |||\n",
    "    |"
   ]
  },
  {
   "cell_type": "code",
   "execution_count": 15,
   "id": "9b6dc141",
   "metadata": {},
   "outputs": [
    {
     "name": "stdout",
     "output_type": "stream",
     "text": [
      "|||||||||\n",
      " |||||||\n",
      "  |||||\n",
      "   |||\n",
      "    |\n"
     ]
    }
   ],
   "source": [
    "rows = 5\n",
    "i = rows\n",
    "\n",
    "while i >= 1:\n",
    "    # Print spaces\n",
    "    spaces = rows - i\n",
    "    print(\" \" * spaces, end=\"\")\n",
    "    \n",
    "    # Print pipes\n",
    "    print(\"|\" * (2*i - 1))\n",
    "    \n",
    "    i -= 1\n"
   ]
  },
  {
   "cell_type": "code",
   "execution_count": null,
   "id": "65640f4d",
   "metadata": {},
   "outputs": [],
   "source": []
  },
  {
   "cell_type": "code",
   "execution_count": null,
   "id": "aa282c11",
   "metadata": {},
   "outputs": [],
   "source": []
  }
 ],
 "metadata": {
  "kernelspec": {
   "display_name": "Python 3 (ipykernel)",
   "language": "python",
   "name": "python3"
  },
  "language_info": {
   "codemirror_mode": {
    "name": "ipython",
    "version": 3
   },
   "file_extension": ".py",
   "mimetype": "text/x-python",
   "name": "python",
   "nbconvert_exporter": "python",
   "pygments_lexer": "ipython3",
   "version": "3.11.5"
  }
 },
 "nbformat": 4,
 "nbformat_minor": 5
}
